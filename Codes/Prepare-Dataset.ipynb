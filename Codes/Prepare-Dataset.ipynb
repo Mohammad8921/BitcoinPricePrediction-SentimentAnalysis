{
 "cells": [
  {
   "cell_type": "code",
   "execution_count": 1,
   "metadata": {},
   "outputs": [],
   "source": [
    "import numpy as np\n",
    "import pandas as pd"
   ]
  },
  {
   "cell_type": "code",
   "execution_count": 137,
   "metadata": {},
   "outputs": [
    {
     "name": "stderr",
     "output_type": "stream",
     "text": [
      "C:\\Dev\\pyhton37\\lib\\site-packages\\IPython\\core\\interactiveshell.py:3418: DtypeWarning: Columns (8,9) have mixed types.Specify dtype option on import or set low_memory=False.\n",
      "  exec(code_obj, self.user_global_ns, self.user_ns)\n"
     ]
    }
   ],
   "source": [
    "init_tweet_dataset = pd.read_csv(\"dataset/Bitcoin_tweets.csv\", usecols=['date', 'text'])"
   ]
  },
  {
   "cell_type": "code",
   "execution_count": 172,
   "metadata": {},
   "outputs": [],
   "source": [
    "tweet_dataset = init_tweet_dataset.loc[:1000000,:].copy()\n",
    "tweet_dataset = tweet_dataset[~tweet_dataset['date'].str.contains(']')]\n",
    "tweet_dataset['date'] = pd.to_datetime(tweet_dataset['date'], format=\"%Y-%m-%d %H:%M:%S\")"
   ]
  },
  {
   "cell_type": "code",
   "execution_count": 179,
   "metadata": {},
   "outputs": [],
   "source": [
    "start_date = pd.to_datetime('2021-07-01')\n",
    "end_date = pd.to_datetime('2021-09-30')\n",
    "tweet_dataset = tweet_dataset[(tweet_dataset['date'] > start_date) & (tweet_dataset['date'] < end_date)]"
   ]
  },
  {
   "cell_type": "code",
   "execution_count": 180,
   "metadata": {},
   "outputs": [
    {
     "data": {
      "text/html": [
       "<div>\n",
       "<style scoped>\n",
       "    .dataframe tbody tr th:only-of-type {\n",
       "        vertical-align: middle;\n",
       "    }\n",
       "\n",
       "    .dataframe tbody tr th {\n",
       "        vertical-align: top;\n",
       "    }\n",
       "\n",
       "    .dataframe thead th {\n",
       "        text-align: right;\n",
       "    }\n",
       "</style>\n",
       "<table border=\"1\" class=\"dataframe\">\n",
       "  <thead>\n",
       "    <tr style=\"text-align: right;\">\n",
       "      <th></th>\n",
       "      <th>date</th>\n",
       "      <th>text</th>\n",
       "    </tr>\n",
       "  </thead>\n",
       "  <tbody>\n",
       "    <tr>\n",
       "      <th>254223</th>\n",
       "      <td>2021-07-05 23:26:48</td>\n",
       "      <td>Why ‘Cardano is just teasing us’\\n\\n💡 https://...</td>\n",
       "    </tr>\n",
       "    <tr>\n",
       "      <th>254224</th>\n",
       "      <td>2021-07-05 23:26:41</td>\n",
       "      <td>#Thailand #Boutiquehotels For Sale! \\n#willroa...</td>\n",
       "    </tr>\n",
       "    <tr>\n",
       "      <th>254225</th>\n",
       "      <td>2021-07-05 23:26:36</td>\n",
       "      <td>LUNALAND ($LLN) will burn coin supply until we...</td>\n",
       "    </tr>\n",
       "    <tr>\n",
       "      <th>254226</th>\n",
       "      <td>2021-07-05 23:26:24</td>\n",
       "      <td>#Ilovebitcoin because people never assume that...</td>\n",
       "    </tr>\n",
       "    <tr>\n",
       "      <th>254227</th>\n",
       "      <td>2021-07-05 23:26:12</td>\n",
       "      <td>$bsc $btc #BNB #Bitcoin #BSC #EarnBNB #BTC htt...</td>\n",
       "    </tr>\n",
       "    <tr>\n",
       "      <th>...</th>\n",
       "      <td>...</td>\n",
       "      <td>...</td>\n",
       "    </tr>\n",
       "    <tr>\n",
       "      <th>999996</th>\n",
       "      <td>2021-08-15 12:53:21</td>\n",
       "      <td>@CryptoNadine @BabyArabiaBSC #babyarabia massi...</td>\n",
       "    </tr>\n",
       "    <tr>\n",
       "      <th>999997</th>\n",
       "      <td>2021-08-15 12:53:12</td>\n",
       "      <td>@mcuban Are you serious or part of the scam??\\...</td>\n",
       "    </tr>\n",
       "    <tr>\n",
       "      <th>999998</th>\n",
       "      <td>2021-08-15 12:52:53</td>\n",
       "      <td>Why is #Bitcoin going to ascend to a global re...</td>\n",
       "    </tr>\n",
       "    <tr>\n",
       "      <th>999999</th>\n",
       "      <td>2021-08-15 12:52:36</td>\n",
       "      <td>#Bitcoin in #QRthings Collection\\n(Only 0.03 e...</td>\n",
       "    </tr>\n",
       "    <tr>\n",
       "      <th>1000000</th>\n",
       "      <td>2021-08-15 12:52:33</td>\n",
       "      <td>@falconix_token an extraordinary project. I wi...</td>\n",
       "    </tr>\n",
       "  </tbody>\n",
       "</table>\n",
       "<p>745776 rows × 2 columns</p>\n",
       "</div>"
      ],
      "text/plain": [
       "                       date                                               text\n",
       "254223  2021-07-05 23:26:48  Why ‘Cardano is just teasing us’\\n\\n💡 https://...\n",
       "254224  2021-07-05 23:26:41  #Thailand #Boutiquehotels For Sale! \\n#willroa...\n",
       "254225  2021-07-05 23:26:36  LUNALAND ($LLN) will burn coin supply until we...\n",
       "254226  2021-07-05 23:26:24  #Ilovebitcoin because people never assume that...\n",
       "254227  2021-07-05 23:26:12  $bsc $btc #BNB #Bitcoin #BSC #EarnBNB #BTC htt...\n",
       "...                     ...                                                ...\n",
       "999996  2021-08-15 12:53:21  @CryptoNadine @BabyArabiaBSC #babyarabia massi...\n",
       "999997  2021-08-15 12:53:12  @mcuban Are you serious or part of the scam??\\...\n",
       "999998  2021-08-15 12:52:53  Why is #Bitcoin going to ascend to a global re...\n",
       "999999  2021-08-15 12:52:36  #Bitcoin in #QRthings Collection\\n(Only 0.03 e...\n",
       "1000000 2021-08-15 12:52:33  @falconix_token an extraordinary project. I wi...\n",
       "\n",
       "[745776 rows x 2 columns]"
      ]
     },
     "execution_count": 180,
     "metadata": {},
     "output_type": "execute_result"
    }
   ],
   "source": [
    "tweet_dataset"
   ]
  },
  {
   "cell_type": "code",
   "execution_count": 183,
   "metadata": {},
   "outputs": [],
   "source": [
    "tweet_dataset.to_csv('dataset/Bitcoin_tweets-789.csv')"
   ]
  },
  {
   "cell_type": "markdown",
   "metadata": {},
   "source": [
    "## Part 2"
   ]
  },
  {
   "cell_type": "code",
   "execution_count": 18,
   "metadata": {},
   "outputs": [],
   "source": [
    "dataset_tweets = pd.read_csv('dataset/Bitcoin_tweets-789.csv')\n",
    "dataset_tweets['date'] = pd.to_datetime(dataset_tweets['date'], format=\"%Y-%m-%d %H:%M:%S\")\n",
    "dataset_tweets['date'] = dataset_tweets['date'].apply(lambda x: x.timestamp())"
   ]
  },
  {
   "cell_type": "code",
   "execution_count": 19,
   "metadata": {},
   "outputs": [
    {
     "data": {
      "text/plain": [
       "0         1.625528e+09\n",
       "1         1.625528e+09\n",
       "2         1.625528e+09\n",
       "3         1.625528e+09\n",
       "4         1.625528e+09\n",
       "              ...     \n",
       "745771    1.629032e+09\n",
       "745772    1.629032e+09\n",
       "745773    1.629032e+09\n",
       "745774    1.629032e+09\n",
       "745775    1.629032e+09\n",
       "Name: date, Length: 745776, dtype: float64"
      ]
     },
     "execution_count": 19,
     "metadata": {},
     "output_type": "execute_result"
    }
   ],
   "source": [
    "dataset_tweets['date']"
   ]
  },
  {
   "cell_type": "code",
   "execution_count": 8,
   "metadata": {},
   "outputs": [],
   "source": [
    "BTC_1 = pd.read_csv('dataset/BTCUSDT-1m-2021-07.csv', usecols=[0,4], names=['open_time', 'close'])\n",
    "BTC_2 = pd.read_csv('dataset/BTCUSDT-1m-2021-08.csv', usecols=[0,4], names=['open_time', 'close'])\n",
    "BTC_3 = pd.read_csv('dataset/BTCUSDT-1m-2021-09.csv', usecols=[0,4], names=['open_time', 'close'])"
   ]
  },
  {
   "cell_type": "code",
   "execution_count": 9,
   "metadata": {},
   "outputs": [],
   "source": [
    "BTC_dataset = pd.concat([BTC_1, BTC_2, BTC_3], ignore_index=True)"
   ]
  },
  {
   "cell_type": "code",
   "execution_count": 10,
   "metadata": {},
   "outputs": [
    {
     "name": "stdout",
     "output_type": "stream",
     "text": [
      "<class 'pandas.core.frame.DataFrame'>\n",
      "RangeIndex: 132090 entries, 0 to 132089\n",
      "Data columns (total 2 columns):\n",
      " #   Column     Non-Null Count   Dtype  \n",
      "---  ------     --------------   -----  \n",
      " 0   open_time  132090 non-null  int64  \n",
      " 1   close      132090 non-null  float64\n",
      "dtypes: float64(1), int64(1)\n",
      "memory usage: 2.0 MB\n"
     ]
    }
   ],
   "source": [
    "BTC_dataset.info()"
   ]
  },
  {
   "cell_type": "code",
   "execution_count": 11,
   "metadata": {},
   "outputs": [],
   "source": [
    "BTC_dataset['open_time'] = BTC_dataset['open_time'].apply(lambda date: date/60000)"
   ]
  },
  {
   "cell_type": "code",
   "execution_count": 13,
   "metadata": {},
   "outputs": [
    {
     "data": {
      "text/html": [
       "<div>\n",
       "<style scoped>\n",
       "    .dataframe tbody tr th:only-of-type {\n",
       "        vertical-align: middle;\n",
       "    }\n",
       "\n",
       "    .dataframe tbody tr th {\n",
       "        vertical-align: top;\n",
       "    }\n",
       "\n",
       "    .dataframe thead th {\n",
       "        text-align: right;\n",
       "    }\n",
       "</style>\n",
       "<table border=\"1\" class=\"dataframe\">\n",
       "  <thead>\n",
       "    <tr style=\"text-align: right;\">\n",
       "      <th></th>\n",
       "      <th>open_time</th>\n",
       "      <th>close</th>\n",
       "    </tr>\n",
       "  </thead>\n",
       "  <tbody>\n",
       "    <tr>\n",
       "      <th>0</th>\n",
       "      <td>27084960.0</td>\n",
       "      <td>34980.47</td>\n",
       "    </tr>\n",
       "    <tr>\n",
       "      <th>1</th>\n",
       "      <td>27084961.0</td>\n",
       "      <td>34974.51</td>\n",
       "    </tr>\n",
       "    <tr>\n",
       "      <th>2</th>\n",
       "      <td>27084962.0</td>\n",
       "      <td>34951.50</td>\n",
       "    </tr>\n",
       "    <tr>\n",
       "      <th>3</th>\n",
       "      <td>27084963.0</td>\n",
       "      <td>34950.00</td>\n",
       "    </tr>\n",
       "    <tr>\n",
       "      <th>4</th>\n",
       "      <td>27084964.0</td>\n",
       "      <td>34962.89</td>\n",
       "    </tr>\n",
       "    <tr>\n",
       "      <th>...</th>\n",
       "      <td>...</td>\n",
       "      <td>...</td>\n",
       "    </tr>\n",
       "    <tr>\n",
       "      <th>132085</th>\n",
       "      <td>27217435.0</td>\n",
       "      <td>43738.52</td>\n",
       "    </tr>\n",
       "    <tr>\n",
       "      <th>132086</th>\n",
       "      <td>27217436.0</td>\n",
       "      <td>43738.24</td>\n",
       "    </tr>\n",
       "    <tr>\n",
       "      <th>132087</th>\n",
       "      <td>27217437.0</td>\n",
       "      <td>43769.11</td>\n",
       "    </tr>\n",
       "    <tr>\n",
       "      <th>132088</th>\n",
       "      <td>27217438.0</td>\n",
       "      <td>43778.19</td>\n",
       "    </tr>\n",
       "    <tr>\n",
       "      <th>132089</th>\n",
       "      <td>27217439.0</td>\n",
       "      <td>43824.10</td>\n",
       "    </tr>\n",
       "  </tbody>\n",
       "</table>\n",
       "<p>132090 rows × 2 columns</p>\n",
       "</div>"
      ],
      "text/plain": [
       "         open_time     close\n",
       "0       27084960.0  34980.47\n",
       "1       27084961.0  34974.51\n",
       "2       27084962.0  34951.50\n",
       "3       27084963.0  34950.00\n",
       "4       27084964.0  34962.89\n",
       "...            ...       ...\n",
       "132085  27217435.0  43738.52\n",
       "132086  27217436.0  43738.24\n",
       "132087  27217437.0  43769.11\n",
       "132088  27217438.0  43778.19\n",
       "132089  27217439.0  43824.10\n",
       "\n",
       "[132090 rows x 2 columns]"
      ]
     },
     "execution_count": 13,
     "metadata": {},
     "output_type": "execute_result"
    }
   ],
   "source": [
    "BTC_dataset"
   ]
  },
  {
   "cell_type": "code",
   "execution_count": 47,
   "metadata": {},
   "outputs": [
    {
     "data": {
      "text/plain": [
       "array([[27092133.  ,    33960.04]])"
      ]
     },
     "execution_count": 47,
     "metadata": {},
     "output_type": "execute_result"
    }
   ],
   "source": [
    "date = 1.625528e+09\n",
    "BTC_dataset[BTC_dataset['open_time'] == int(date/60)].values"
   ]
  },
  {
   "cell_type": "code",
   "execution_count": 49,
   "metadata": {},
   "outputs": [],
   "source": [
    "dataset_tweets['rate'] = dataset_tweets['date'].apply(lambda date: (BTC_dataset[BTC_dataset['open_time'] == int(date/60) + 1440].values[0,1] - BTC_dataset[BTC_dataset['open_time'] == int(date/60)].values[0,1])/BTC_dataset[BTC_dataset['open_time'] == int(date/60)].values[0,1])"
   ]
  },
  {
   "cell_type": "code",
   "execution_count": 65,
   "metadata": {},
   "outputs": [
    {
     "data": {
      "text/html": [
       "<div>\n",
       "<style scoped>\n",
       "    .dataframe tbody tr th:only-of-type {\n",
       "        vertical-align: middle;\n",
       "    }\n",
       "\n",
       "    .dataframe tbody tr th {\n",
       "        vertical-align: top;\n",
       "    }\n",
       "\n",
       "    .dataframe thead th {\n",
       "        text-align: right;\n",
       "    }\n",
       "</style>\n",
       "<table border=\"1\" class=\"dataframe\">\n",
       "  <thead>\n",
       "    <tr style=\"text-align: right;\">\n",
       "      <th></th>\n",
       "      <th>Unnamed: 0</th>\n",
       "      <th>date</th>\n",
       "      <th>text</th>\n",
       "      <th>rate</th>\n",
       "    </tr>\n",
       "  </thead>\n",
       "  <tbody>\n",
       "    <tr>\n",
       "      <th>27617</th>\n",
       "      <td>281840</td>\n",
       "      <td>1.625436e+09</td>\n",
       "      <td>🔻🔻🔻 $ICP Short Position(v1) 🔻🔻🔻\\nEntry Price: ...</td>\n",
       "      <td>-0.050707</td>\n",
       "    </tr>\n",
       "    <tr>\n",
       "      <th>27618</th>\n",
       "      <td>281841</td>\n",
       "      <td>1.625436e+09</td>\n",
       "      <td>People everywhere are complaining about prices...</td>\n",
       "      <td>-0.050707</td>\n",
       "    </tr>\n",
       "    <tr>\n",
       "      <th>27619</th>\n",
       "      <td>281842</td>\n",
       "      <td>1.625436e+09</td>\n",
       "      <td>@Bitcoinbeach @nayibbukele safemoon building b...</td>\n",
       "      <td>-0.050707</td>\n",
       "    </tr>\n",
       "    <tr>\n",
       "      <th>27620</th>\n",
       "      <td>281843</td>\n",
       "      <td>1.625436e+09</td>\n",
       "      <td>#Bitcoin let's go baby</td>\n",
       "      <td>-0.050707</td>\n",
       "    </tr>\n",
       "    <tr>\n",
       "      <th>27621</th>\n",
       "      <td>281844</td>\n",
       "      <td>1.625436e+09</td>\n",
       "      <td>Happy 4th #cryptocurrency #bitcoin $ADA $ATOM ...</td>\n",
       "      <td>-0.050707</td>\n",
       "    </tr>\n",
       "    <tr>\n",
       "      <th>...</th>\n",
       "      <td>...</td>\n",
       "      <td>...</td>\n",
       "      <td>...</td>\n",
       "      <td>...</td>\n",
       "    </tr>\n",
       "    <tr>\n",
       "      <th>701968</th>\n",
       "      <td>956193</td>\n",
       "      <td>1.629201e+09</td>\n",
       "      <td>⬆ +9 The Magnificent Bitcoin Supercycle Is Her...</td>\n",
       "      <td>-0.050629</td>\n",
       "    </tr>\n",
       "    <tr>\n",
       "      <th>701969</th>\n",
       "      <td>956194</td>\n",
       "      <td>1.629201e+09</td>\n",
       "      <td>#Bitcoin can see $55K breakout if last major #...</td>\n",
       "      <td>-0.050629</td>\n",
       "    </tr>\n",
       "    <tr>\n",
       "      <th>701970</th>\n",
       "      <td>956195</td>\n",
       "      <td>1.629201e+09</td>\n",
       "      <td>#Bitcoin $BTC \\nPrice: $47,036.90\\n\\nAreas of ...</td>\n",
       "      <td>-0.050629</td>\n",
       "    </tr>\n",
       "    <tr>\n",
       "      <th>701971</th>\n",
       "      <td>956196</td>\n",
       "      <td>1.629201e+09</td>\n",
       "      <td>Any product which is used in the project ecosy...</td>\n",
       "      <td>-0.050629</td>\n",
       "    </tr>\n",
       "    <tr>\n",
       "      <th>701972</th>\n",
       "      <td>956197</td>\n",
       "      <td>1.629201e+09</td>\n",
       "      <td>Good day, traders.\\nI’m watching these #stocks...</td>\n",
       "      <td>-0.050629</td>\n",
       "    </tr>\n",
       "  </tbody>\n",
       "</table>\n",
       "<p>16136 rows × 4 columns</p>\n",
       "</div>"
      ],
      "text/plain": [
       "        Unnamed: 0          date  \\\n",
       "27617       281840  1.625436e+09   \n",
       "27618       281841  1.625436e+09   \n",
       "27619       281842  1.625436e+09   \n",
       "27620       281843  1.625436e+09   \n",
       "27621       281844  1.625436e+09   \n",
       "...            ...           ...   \n",
       "701968      956193  1.629201e+09   \n",
       "701969      956194  1.629201e+09   \n",
       "701970      956195  1.629201e+09   \n",
       "701971      956196  1.629201e+09   \n",
       "701972      956197  1.629201e+09   \n",
       "\n",
       "                                                     text      rate  \n",
       "27617   🔻🔻🔻 $ICP Short Position(v1) 🔻🔻🔻\\nEntry Price: ... -0.050707  \n",
       "27618   People everywhere are complaining about prices... -0.050707  \n",
       "27619   @Bitcoinbeach @nayibbukele safemoon building b... -0.050707  \n",
       "27620                              #Bitcoin let's go baby -0.050707  \n",
       "27621   Happy 4th #cryptocurrency #bitcoin $ADA $ATOM ... -0.050707  \n",
       "...                                                   ...       ...  \n",
       "701968  ⬆ +9 The Magnificent Bitcoin Supercycle Is Her... -0.050629  \n",
       "701969  #Bitcoin can see $55K breakout if last major #... -0.050629  \n",
       "701970  #Bitcoin $BTC \\nPrice: $47,036.90\\n\\nAreas of ... -0.050629  \n",
       "701971  Any product which is used in the project ecosy... -0.050629  \n",
       "701972  Good day, traders.\\nI’m watching these #stocks... -0.050629  \n",
       "\n",
       "[16136 rows x 4 columns]"
      ]
     },
     "execution_count": 65,
     "metadata": {},
     "output_type": "execute_result"
    }
   ],
   "source": [
    "dataset_tweets[dataset_tweets['rate'] < -0.05]"
   ]
  },
  {
   "cell_type": "code",
   "execution_count": 66,
   "metadata": {},
   "outputs": [],
   "source": [
    "dataset_tweets[['date','text','rate']].to_csv(\"dataset/dataset_BitcoinRate.csv\")"
   ]
  },
  {
   "cell_type": "markdown",
   "metadata": {},
   "source": [
    "## Part 3"
   ]
  },
  {
   "cell_type": "code",
   "execution_count": 4,
   "metadata": {},
   "outputs": [],
   "source": [
    "dataset_bitcoinRate = pd.read_csv(\"dataset/dataset_BitcoinRate.csv\", usecols=['text', 'rate'])"
   ]
  },
  {
   "cell_type": "code",
   "execution_count": 5,
   "metadata": {},
   "outputs": [
    {
     "data": {
      "text/html": [
       "<div>\n",
       "<style scoped>\n",
       "    .dataframe tbody tr th:only-of-type {\n",
       "        vertical-align: middle;\n",
       "    }\n",
       "\n",
       "    .dataframe tbody tr th {\n",
       "        vertical-align: top;\n",
       "    }\n",
       "\n",
       "    .dataframe thead th {\n",
       "        text-align: right;\n",
       "    }\n",
       "</style>\n",
       "<table border=\"1\" class=\"dataframe\">\n",
       "  <thead>\n",
       "    <tr style=\"text-align: right;\">\n",
       "      <th></th>\n",
       "      <th>text</th>\n",
       "      <th>rate</th>\n",
       "    </tr>\n",
       "  </thead>\n",
       "  <tbody>\n",
       "    <tr>\n",
       "      <th>207206</th>\n",
       "      <td>#Keevo Tech Hard wallet now supports #EMAX!!! ...</td>\n",
       "      <td>0.006988</td>\n",
       "    </tr>\n",
       "    <tr>\n",
       "      <th>432247</th>\n",
       "      <td>CELSIUS Crypto BUY$ Wall Street Miner; Pension...</td>\n",
       "      <td>-0.044206</td>\n",
       "    </tr>\n",
       "    <tr>\n",
       "      <th>250902</th>\n",
       "      <td>Bitcoin breaks below $30,000\\n\\n#Bitcoin #BTC ...</td>\n",
       "      <td>0.033809</td>\n",
       "    </tr>\n",
       "    <tr>\n",
       "      <th>519748</th>\n",
       "      <td>@iodafinance i have followed your project, hop...</td>\n",
       "      <td>-0.021982</td>\n",
       "    </tr>\n",
       "    <tr>\n",
       "      <th>215655</th>\n",
       "      <td>@ProjectLarix Very interesting!!\\n\\nI am inter...</td>\n",
       "      <td>0.012065</td>\n",
       "    </tr>\n",
       "    <tr>\n",
       "      <th>463694</th>\n",
       "      <td>35K #btc in 4 hours.</td>\n",
       "      <td>0.122205</td>\n",
       "    </tr>\n",
       "    <tr>\n",
       "      <th>320943</th>\n",
       "      <td>My Team Earns Extra #BTC #Satoshi #Bitcoin #cr...</td>\n",
       "      <td>0.007229</td>\n",
       "    </tr>\n",
       "    <tr>\n",
       "      <th>79835</th>\n",
       "      <td>@dalinggra @Ajiboken @Fajrii77 @adreena168 Sta...</td>\n",
       "      <td>0.039578</td>\n",
       "    </tr>\n",
       "    <tr>\n",
       "      <th>261534</th>\n",
       "      <td>@thecryptobeasts Fisrt. I have to say thank u ...</td>\n",
       "      <td>-0.025131</td>\n",
       "    </tr>\n",
       "    <tr>\n",
       "      <th>483279</th>\n",
       "      <td>@mysquarefinance Nice project\\n@NolanAmadi \\n@...</td>\n",
       "      <td>-0.019786</td>\n",
       "    </tr>\n",
       "  </tbody>\n",
       "</table>\n",
       "</div>"
      ],
      "text/plain": [
       "                                                     text      rate\n",
       "207206  #Keevo Tech Hard wallet now supports #EMAX!!! ...  0.006988\n",
       "432247  CELSIUS Crypto BUY$ Wall Street Miner; Pension... -0.044206\n",
       "250902  Bitcoin breaks below $30,000\\n\\n#Bitcoin #BTC ...  0.033809\n",
       "519748  @iodafinance i have followed your project, hop... -0.021982\n",
       "215655  @ProjectLarix Very interesting!!\\n\\nI am inter...  0.012065\n",
       "463694                               35K #btc in 4 hours.  0.122205\n",
       "320943  My Team Earns Extra #BTC #Satoshi #Bitcoin #cr...  0.007229\n",
       "79835   @dalinggra @Ajiboken @Fajrii77 @adreena168 Sta...  0.039578\n",
       "261534  @thecryptobeasts Fisrt. I have to say thank u ... -0.025131\n",
       "483279  @mysquarefinance Nice project\\n@NolanAmadi \\n@... -0.019786"
      ]
     },
     "execution_count": 5,
     "metadata": {},
     "output_type": "execute_result"
    }
   ],
   "source": [
    "dataset_bitcoinRate.sample(10)"
   ]
  },
  {
   "cell_type": "code",
   "execution_count": 6,
   "metadata": {},
   "outputs": [
    {
     "data": {
      "text/plain": [
       "(array([ 23783.,  97013., 176998., 188565., 151113.,  85452.,  13724.,\n",
       "          5211.,   3167.,    750.]),\n",
       " array([-0.06960183, -0.04502032, -0.02043882,  0.00414269,  0.0287242 ,\n",
       "         0.0533057 ,  0.07788721,  0.10246872,  0.12705023,  0.15163173,\n",
       "         0.17621324]),\n",
       " <BarContainer object of 10 artists>)"
      ]
     },
     "execution_count": 6,
     "metadata": {},
     "output_type": "execute_result"
    },
    {
     "data": {
      "image/png": "[encoded data removed]",
      "text/plain": [
       "<Figure size 432x288 with 1 Axes>"
      ]
     },
     "metadata": {
      "needs_background": "light"
     },
     "output_type": "display_data"
    }
   ],
   "source": [
    "import matplotlib.pyplot as plt\n",
    "plt.hist(dataset_bitcoinRate['rate'])"
   ]
  },
  {
   "cell_type": "code",
   "execution_count": 7,
   "metadata": {},
   "outputs": [],
   "source": [
    "# rate > 0.01 -> 1 \n",
    "# rate < -0.01 -> -1\n",
    "# others -> 0\n",
    "def label(x):\n",
    "    if x >= 0.01:\n",
    "        return 1\n",
    "    elif x <= -0.01:\n",
    "        return -1\n",
    "    return 0        "
   ]
  },
  {
   "cell_type": "code",
   "execution_count": 8,
   "metadata": {},
   "outputs": [],
   "source": [
    "dataset_bitcoinRate['affect'] = dataset_bitcoinRate['rate'].apply(lambda x: label(x))"
   ]
  },
  {
   "cell_type": "code",
   "execution_count": 10,
   "metadata": {},
   "outputs": [
    {
     "data": {
      "text/html": [
       "<div>\n",
       "<style scoped>\n",
       "    .dataframe tbody tr th:only-of-type {\n",
       "        vertical-align: middle;\n",
       "    }\n",
       "\n",
       "    .dataframe tbody tr th {\n",
       "        vertical-align: top;\n",
       "    }\n",
       "\n",
       "    .dataframe thead th {\n",
       "        text-align: right;\n",
       "    }\n",
       "</style>\n",
       "<table border=\"1\" class=\"dataframe\">\n",
       "  <thead>\n",
       "    <tr style=\"text-align: right;\">\n",
       "      <th></th>\n",
       "      <th>text</th>\n",
       "      <th>rate</th>\n",
       "    </tr>\n",
       "    <tr>\n",
       "      <th>affect</th>\n",
       "      <th></th>\n",
       "      <th></th>\n",
       "    </tr>\n",
       "  </thead>\n",
       "  <tbody>\n",
       "    <tr>\n",
       "      <th>-1</th>\n",
       "      <td>194020</td>\n",
       "      <td>194020</td>\n",
       "    </tr>\n",
       "    <tr>\n",
       "      <th>0</th>\n",
       "      <td>155801</td>\n",
       "      <td>155801</td>\n",
       "    </tr>\n",
       "    <tr>\n",
       "      <th>1</th>\n",
       "      <td>395955</td>\n",
       "      <td>395955</td>\n",
       "    </tr>\n",
       "  </tbody>\n",
       "</table>\n",
       "</div>"
      ],
      "text/plain": [
       "          text    rate\n",
       "affect                \n",
       "-1      194020  194020\n",
       " 0      155801  155801\n",
       " 1      395955  395955"
      ]
     },
     "execution_count": 10,
     "metadata": {},
     "output_type": "execute_result"
    }
   ],
   "source": [
    "dataset_bitcoinRate.groupby(dataset_bitcoinRate['affect']).count()"
   ]
  },
  {
   "cell_type": "code",
   "execution_count": 11,
   "metadata": {},
   "outputs": [],
   "source": [
    "dataset_bitcoinRate.to_csv(\"dataset_bitcoin_final.csv\", index = False)"
   ]
  }
 ],
 "metadata": {
  "interpreter": {
   "hash": "f402d2e20bf60abab6c63f5caad3eaf757e18333d9c575c25b8a9d9a3e0bf318"
  },
  "kernelspec": {
   "display_name": "Python 3.7.7 64-bit",
   "language": "python",
   "name": "python3"
  },
  "language_info": {
   "codemirror_mode": {
    "name": "ipython",
    "version": 3
   },
   "file_extension": ".py",
   "mimetype": "text/x-python",
   "name": "python",
   "nbconvert_exporter": "python",
   "pygments_lexer": "ipython3",
   "version": "3.7.7"
  },
  "orig_nbformat": 4
 },
 "nbformat": 4,
 "nbformat_minor": 2
}
