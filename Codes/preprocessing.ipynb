{
 "cells": [
  {
   "cell_type": "markdown",
   "id": "4d70a618",
   "metadata": {},
   "source": [
    "# Data Preprocesing\n",
    "This part has been implemented by Amir Sadeghi (github: amirsdg77)"
   ]
  },
  {
   "cell_type": "code",
   "execution_count": 17,
   "id": "a0e639b7",
   "metadata": {},
   "outputs": [
    {
     "name": "stderr",
     "output_type": "stream",
     "text": [
      "[nltk_data] Downloading package stopwords to\n",
      "[nltk_data]     C:\\Users\\1\\AppData\\Roaming\\nltk_data...\n",
      "[nltk_data]   Package stopwords is already up-to-date!\n",
      "[nltk_data] Downloading package punkt to\n",
      "[nltk_data]     C:\\Users\\1\\AppData\\Roaming\\nltk_data...\n",
      "[nltk_data]   Package punkt is already up-to-date!\n"
     ]
    }
   ],
   "source": [
    "import nltk\n",
    "from nltk.stem import WordNetLemmatizer\n",
    "import string\n",
    "nltk.download('stopwords')\n",
    "nltk.download('punkt')\n",
    "from nltk.corpus import stopwords\n",
    "from cleantext import clean\n",
    "import codecs,re\n",
    "from nltk.stem import PorterStemmer\n",
    "from nltk.tokenize import sent_tokenize, word_tokenize\n",
    "\n",
    "def cleaning(text):\n",
    "  text = str(text)\n",
    "  text = re.sub(r'#', ' ', text)\n",
    "  text = re.sub(r'_', ' ', text)\n",
    "  text = text.replace('\\u200c', ' ')\n",
    "  text = re.sub(r'[^\\w\\s]',' ',text)\n",
    "  text = re.sub(r'\\@\\w*', ' ', text)\n",
    "  text = re.sub(r'\\d+', ' ', text)\n",
    "  text = re.sub(r'$', ' ', text)\n",
    "  text = re.sub(r'<(.*?)>', ' ', text)\n",
    "  text = re.sub(r'https?:\\/\\/.*[\\r\\n]*', ' ', text)\n",
    "  text=re.sub(r'[\\·\\♦\\٭\\\\,\\^\\|\\˝\\٬\\’\\”\\‹\\▪\\○¼ç½éêüəıœ™Ááàäāćíłñū©ٰٔ]',' ',text)\n",
    "  text=re.sub(r'[ًٌٍَُِّْ]',' ',text)\n",
    "  text=re.sub(r'[]',r' ',text)\n",
    "  text=re.sub(r'[\\–\\—…°≈≠±≤≥\\−×÷√٪→←↔↑↓\\#\\٫]',u' ',text) \n",
    "  text=text.replace(u'•',u' ').replace(u'ˈ',u' ').replace(u'؛',u' ').replace(u'/',u' ').replace(u'ۀ',u'هٔ').replace(u\"﴿\",u' ').replace(u\"﴾\",u' ').replace(u\"'\",u' ').replace(u'\\\\',u' ').replace(u'[',u' ').replace(u']',u' ').replace(u'?',u' ').replace(u'؟',u' ').replace(u')',u' ').replace(u'_',u' ').replace(u'(u',u' ').replace(u'}',u' ').replace(u'{',u' ').replace(u'.',u' ').replace(u'>',u' ').replace(u'<',u' ')\n",
    "  text=text.replace(u'`',u' ').replace(u'\\t',u' ').replace(u'=',u' ').replace(u'»',u' ').replace(u'«',u' ').replace(u'~',u' ').replace(u'!',u' ').replace(u'@',u' ').replace(u'$',u' ').replace(u',u',u' ').replace(u'%',u' ').replace(u'،',u' ').replace(u'-',u' ').replace(u';',u' ').replace(u':',u' ').replace(u'*',u' ').replace(u'\"',u' ').replace(u'&',u' ').replace(u'#',u' ').replace(u'+',u' ')\n",
    "  text=re.sub(r'[\\n\\r]{2,}',u'\\n',text)\n",
    "  text = re.sub(u'(\\u202A|\\u202B|\\u202C|\\u202D|\\u202E|\\u200F|\\uFEFF|\\u2003|\\¬|\\­)',u'\\u200C', text)#حذف کارکترهای تغییرجهت\n",
    "  text = re.sub(u'‌{2,}', u'‌', text) # پشت‌سرهم\n",
    "  text=text.replace(u'­',u' ').replace(u'­',u' ').replace(u'ـ',u' ').replace(u'ـ',u' ').replace(u'ـ',u' ').replace(u'ـ',u' ').replace(u'\u001b',u' ')\n",
    "  text=text.replace(u'\u001b',u' ')\n",
    "  text = re.sub(u'(\\u00A0)',u' ', text).replace(u'(',u' ').replace(u')',u' ')\n",
    "  text=text.replace(u'    ',u' ').replace(u'    ',u' ').replace(u'   ',u' ').replace(u'  ',u' ').replace(u'  ',u' ').replace(u'  ',u' ')\n",
    "  return text.strip()\n",
    "\n",
    "def remove_stopwords(text):\n",
    "  text = text.lower()\n",
    "  tokens = word_tokenize(text)\n",
    "  english_stopwords = stopwords.words('english')\n",
    "  results = [w for w in tokens if w not in english_stopwords and w not in string.punctuation]\n",
    "  \n",
    "  return ' '.join(results)\n",
    "\n",
    "def stemming(text):\n",
    "  text = text.lower()\n",
    "  tokens = word_tokenize(text)\n",
    "  stemmer = PorterStemmer()\n",
    "\n",
    "  results = [stemmer.stem(w) for w in tokens]\n",
    "\n",
    "  return ' '.join(results)\n",
    "\n",
    "def lemmatizing(text):\n",
    "  wordlist = []\n",
    "  lemmatizer = WordNetLemmatizer()\n",
    "  \n",
    "  sentences = sent_tokenize(text)\n",
    "\n",
    "  for sentence in sentences:\n",
    "        words=word_tokenize(sentence)\n",
    "        for word in words:\n",
    "            wordlist.append(lemmatizer.lemmatize(word))\n",
    "\n",
    "  return ' '.join(wordlist)\n",
    "\n",
    "def normalize(text):\n",
    "  #result = lemmatizing(text)\n",
    "  result  = remove_stopwords(text)\n",
    "  result = stemming(result)\n",
    "\n",
    "  return result"
   ]
  },
  {
   "cell_type": "code",
   "execution_count": 1,
   "id": "c0372a18",
   "metadata": {},
   "outputs": [],
   "source": [
    "import pandas as pd\n",
    "import numpy as np"
   ]
  },
  {
   "cell_type": "code",
   "execution_count": 18,
   "id": "6d55ba25",
   "metadata": {},
   "outputs": [],
   "source": [
    "dataset = pd.read_csv('../dataset/data1.csv', usecols = ['cleaned','Labels'])"
   ]
  },
  {
   "cell_type": "code",
   "execution_count": 19,
   "id": "ac1c18f4",
   "metadata": {},
   "outputs": [],
   "source": [
    "dataset['cleaned'] = dataset['cleaned'].apply(lambda text: normalize(text))"
   ]
  },
  {
   "cell_type": "code",
   "execution_count": 20,
   "id": "cd0e65c3",
   "metadata": {},
   "outputs": [
    {
     "data": {
      "text/plain": [
       "97965    ganhandonlin goonrich comradedog coin come lau...\n",
       "20140    disrupt whale got rich ethereum bitcoin soon d...\n",
       "68586    nice wake see support still held need hold wee...\n",
       "95734    bitcoin best form money world maximum suppli n...\n",
       "56434    follow betfuri let hunt bitcoin togeth get exc...\n",
       "43126    darknet bitcoin mixer oper bust judg say bitco...\n",
       "17527    cryptotravel jack think clearli bitcoin radic ...\n",
       "56972    hear dfi defichain expect long term outlook ou...\n",
       "66782    usd mkt cap chang last hour doge b ada dot icp...\n",
       "89439                         btc equal cad canada bitcoin\n",
       "Name: cleaned, dtype: object"
      ]
     },
     "execution_count": 20,
     "metadata": {},
     "output_type": "execute_result"
    }
   ],
   "source": [
    "dataset['cleaned'].sample(10)"
   ]
  },
  {
   "cell_type": "code",
   "execution_count": 21,
   "id": "58c99741",
   "metadata": {},
   "outputs": [],
   "source": [
    "dataset[['cleaned', 'Labels']].to_csv('../dataset/data2.csv', index=False)"
   ]
  }
 ],
 "metadata": {
  "kernelspec": {
   "display_name": "Python 3 (ipykernel)",
   "language": "python",
   "name": "python3"
  },
  "language_info": {
   "codemirror_mode": {
    "name": "ipython",
    "version": 3
   },
   "file_extension": ".py",
   "mimetype": "text/x-python",
   "name": "python",
   "nbconvert_exporter": "python",
   "pygments_lexer": "ipython3",
   "version": "3.7.7"
  }
 },
 "nbformat": 4,
 "nbformat_minor": 5
}
